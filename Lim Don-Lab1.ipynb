{
 "cells": [
  {
   "cell_type": "markdown",
   "metadata": {},
   "source": [
    "192877  \n",
    "Don Lim  \n",
    "2 BS ME"
   ]
  },
  {
   "cell_type": "markdown",
   "metadata": {},
   "source": [
    "Number 1"
   ]
  },
  {
   "cell_type": "code",
   "execution_count": 13,
   "metadata": {},
   "outputs": [
    {
     "name": "stdout",
     "output_type": "stream",
     "text": [
      "Enter the amount in dollars: 12\n",
      "12  US Dollar(s)=  600  Philippine Pesos\n"
     ]
    }
   ],
   "source": [
    "def dollars_to_pesos(dollars):\n",
    "    return dollars*50\n",
    "\n",
    "dollars=int(input(\"Enter the amount in dollars: \"))\n",
    "pesos=dollars_to_pesos(dollars)\n",
    "\n",
    "print(dollars, \" US Dollar(s)= \",pesos,\" Philippine Pesos\" )"
   ]
  },
  {
   "cell_type": "markdown",
   "metadata": {},
   "source": [
    "Number 2"
   ]
  },
  {
   "cell_type": "code",
   "execution_count": 8,
   "metadata": {},
   "outputs": [
    {
     "name": "stdout",
     "output_type": "stream",
     "text": [
      "Enter first number:1\n",
      "Enter second number:2\n",
      "3\n",
      "-1\n",
      "2\n",
      "0\n",
      "1\n"
     ]
    }
   ],
   "source": [
    "a=int(input(\"Enter first number:\")) #Sorry sir. I couldn't help add a parameter for input. \n",
    "b=int(input(\"Enter second number:\")) #It seems more user friendly.\n",
    "\n",
    "print(a + b)\n",
    "print(a-b)\n",
    "print(a*b)\n",
    "print(a//b)\n",
    "print(a%b)"
   ]
  },
  {
   "cell_type": "markdown",
   "metadata": {},
   "source": [
    "Number 3 "
   ]
  },
  {
   "cell_type": "code",
   "execution_count": 12,
   "metadata": {},
   "outputs": [
    {
     "name": "stdout",
     "output_type": "stream",
     "text": [
      "Enter kg:70\n",
      "Enter cm:170\n",
      "BMI: 24.221453287197235\n"
     ]
    }
   ],
   "source": [
    "def compute_bmi(kg,m):\n",
    "    bmi=kg/m**2\n",
    "    return bmi\n",
    "\n",
    "def convert_cm_to_m(cm):\n",
    "    m=cm*0.01\n",
    "    return m\n",
    "\n",
    "weight=int(input(\"Enter kg:\"))\n",
    "height_cm=int(input(\"Enter cm:\"))\n",
    "\n",
    "height_m=convert_cm_to_m(height_cm)\n",
    "bmi=compute_bmi(weight,height_m)\n",
    "\n",
    "print(\"BMI:\",bmi)\n",
    "\n"
   ]
  }
 ],
 "metadata": {
  "kernelspec": {
   "display_name": "Python 3",
   "language": "python",
   "name": "python3"
  },
  "language_info": {
   "codemirror_mode": {
    "name": "ipython",
    "version": 3
   },
   "file_extension": ".py",
   "mimetype": "text/x-python",
   "name": "python",
   "nbconvert_exporter": "python",
   "pygments_lexer": "ipython3",
   "version": "3.7.6"
  }
 },
 "nbformat": 4,
 "nbformat_minor": 4
}
